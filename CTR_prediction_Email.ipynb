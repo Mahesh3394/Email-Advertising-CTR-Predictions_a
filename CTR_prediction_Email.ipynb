{
 "cells": [
  {
   "cell_type": "markdown",
   "id": "a2b59005",
   "metadata": {},
   "source": [
    "# Problem Statement-:\n",
    "\n",
    "To predict a CTR that \"Click through rate\" on email campaign. Most organizations today rely on email campaigns for effective communication with users. While ultimate goal of email campaigns is to maximize the Click Through Rate (CTR).\n",
    "\n",
    "CTR can be calculated as \n",
    "CTR =   No. of users who clicked on at least one of the CTA / No. of emails delivered.\n",
    "\n",
    "Our problem statement is to build a smart system to predict the CTR for email campaigns and therefore identify the critical factors that will help the marketing team to maximize the CTR."
   ]
  },
  {
   "cell_type": "markdown",
   "id": "9c6e8a60",
   "metadata": {},
   "source": [
    "# Performance metric-:\n",
    "\n",
    "The evaluation metric for this problem statement would be r2_score."
   ]
  },
  {
   "cell_type": "code",
   "execution_count": 1,
   "id": "7844caa4",
   "metadata": {},
   "outputs": [
    {
     "name": "stdout",
     "output_type": "stream",
     "text": [
      "Requirement already satisfied: category_encoders in c:\\users\\scorpions3394\\anaconda3\\lib\\site-packages (2.5.0)\n",
      "Requirement already satisfied: statsmodels>=0.9.0 in c:\\users\\scorpions3394\\anaconda3\\lib\\site-packages (from category_encoders) (0.12.2)\n",
      "Requirement already satisfied: pandas>=1.0.5 in c:\\users\\scorpions3394\\anaconda3\\lib\\site-packages (from category_encoders) (1.3.4)\n",
      "Requirement already satisfied: scipy>=1.0.0 in c:\\users\\scorpions3394\\anaconda3\\lib\\site-packages (from category_encoders) (1.7.1)\n",
      "Requirement already satisfied: patsy>=0.5.1 in c:\\users\\scorpions3394\\anaconda3\\lib\\site-packages (from category_encoders) (0.5.2)\n",
      "Requirement already satisfied: numpy>=1.14.0 in c:\\users\\scorpions3394\\anaconda3\\lib\\site-packages (from category_encoders) (1.20.3)\n",
      "Requirement already satisfied: scikit-learn>=0.20.0 in c:\\users\\scorpions3394\\anaconda3\\lib\\site-packages (from category_encoders) (0.24.2)\n",
      "Requirement already satisfied: python-dateutil>=2.7.3 in c:\\users\\scorpions3394\\anaconda3\\lib\\site-packages (from pandas>=1.0.5->category_encoders) (2.8.2)\n",
      "Requirement already satisfied: pytz>=2017.3 in c:\\users\\scorpions3394\\anaconda3\\lib\\site-packages (from pandas>=1.0.5->category_encoders) (2021.3)\n",
      "Requirement already satisfied: six in c:\\users\\scorpions3394\\anaconda3\\lib\\site-packages (from patsy>=0.5.1->category_encoders) (1.16.0)\n",
      "Requirement already satisfied: joblib>=0.11 in c:\\users\\scorpions3394\\anaconda3\\lib\\site-packages (from scikit-learn>=0.20.0->category_encoders) (1.1.0)\n",
      "Requirement already satisfied: threadpoolctl>=2.0.0 in c:\\users\\scorpions3394\\anaconda3\\lib\\site-packages (from scikit-learn>=0.20.0->category_encoders) (2.2.0)\n",
      "Note: you may need to restart the kernel to use updated packages.\n"
     ]
    }
   ],
   "source": [
    "pip install category_encoders"
   ]
  },
  {
   "cell_type": "code",
   "execution_count": 2,
   "id": "25712ac2",
   "metadata": {},
   "outputs": [],
   "source": [
    "#importing libraries\n",
    "\n",
    "import pandas as pd\n",
    "import numpy as np\n",
    "import matplotlib.pyplot as plt\n",
    "from sklearn.linear_model import LogisticRegression\n",
    "from sklearn.ensemble import RandomForestClassifier\n",
    "from sklearn.metrics import roc_auc_score as AUC\n",
    "from sklearn.metrics import mean_absolute_error\n",
    "from sklearn.preprocessing import LabelEncoder, LabelBinarizer\n",
    "#from sklearn.cross_validation import cross_val_score\n",
    "\n",
    "from scipy import stats\n",
    "import seaborn as sns\n",
    "from copy import deepcopy\n",
    "\n",
    "%matplotlib inline"
   ]
  },
  {
   "cell_type": "code",
   "execution_count": 3,
   "id": "932ee702",
   "metadata": {},
   "outputs": [],
   "source": [
    "#load train data\n",
    "ctr_train = pd.read_csv('train_F3fUq2S.csv')\n",
    "ctr_test = pd.read_csv('test_Bk2wfZ3.csv')"
   ]
  },
  {
   "cell_type": "code",
   "execution_count": 4,
   "id": "a5fd8a6d",
   "metadata": {},
   "outputs": [
    {
     "data": {
      "text/html": [
       "<div>\n",
       "<style scoped>\n",
       "    .dataframe tbody tr th:only-of-type {\n",
       "        vertical-align: middle;\n",
       "    }\n",
       "\n",
       "    .dataframe tbody tr th {\n",
       "        vertical-align: top;\n",
       "    }\n",
       "\n",
       "    .dataframe thead th {\n",
       "        text-align: right;\n",
       "    }\n",
       "</style>\n",
       "<table border=\"1\" class=\"dataframe\">\n",
       "  <thead>\n",
       "    <tr style=\"text-align: right;\">\n",
       "      <th></th>\n",
       "      <th>campaign_id</th>\n",
       "      <th>sender</th>\n",
       "      <th>subject_len</th>\n",
       "      <th>body_len</th>\n",
       "      <th>mean_paragraph_len</th>\n",
       "      <th>day_of_week</th>\n",
       "      <th>is_weekend</th>\n",
       "      <th>times_of_day</th>\n",
       "      <th>category</th>\n",
       "      <th>product</th>\n",
       "      <th>...</th>\n",
       "      <th>is_image</th>\n",
       "      <th>is_personalised</th>\n",
       "      <th>is_quote</th>\n",
       "      <th>is_timer</th>\n",
       "      <th>is_emoticons</th>\n",
       "      <th>is_discount</th>\n",
       "      <th>is_price</th>\n",
       "      <th>is_urgency</th>\n",
       "      <th>target_audience</th>\n",
       "      <th>click_rate</th>\n",
       "    </tr>\n",
       "  </thead>\n",
       "  <tbody>\n",
       "    <tr>\n",
       "      <th>0</th>\n",
       "      <td>1</td>\n",
       "      <td>3</td>\n",
       "      <td>76</td>\n",
       "      <td>10439</td>\n",
       "      <td>39</td>\n",
       "      <td>5</td>\n",
       "      <td>1</td>\n",
       "      <td>Noon</td>\n",
       "      <td>6</td>\n",
       "      <td>26</td>\n",
       "      <td>...</td>\n",
       "      <td>0</td>\n",
       "      <td>0</td>\n",
       "      <td>0</td>\n",
       "      <td>0</td>\n",
       "      <td>0</td>\n",
       "      <td>0</td>\n",
       "      <td>0</td>\n",
       "      <td>0</td>\n",
       "      <td>14</td>\n",
       "      <td>0.103079</td>\n",
       "    </tr>\n",
       "    <tr>\n",
       "      <th>1</th>\n",
       "      <td>2</td>\n",
       "      <td>3</td>\n",
       "      <td>54</td>\n",
       "      <td>2570</td>\n",
       "      <td>256</td>\n",
       "      <td>5</td>\n",
       "      <td>1</td>\n",
       "      <td>Morning</td>\n",
       "      <td>2</td>\n",
       "      <td>11</td>\n",
       "      <td>...</td>\n",
       "      <td>0</td>\n",
       "      <td>0</td>\n",
       "      <td>0</td>\n",
       "      <td>0</td>\n",
       "      <td>0</td>\n",
       "      <td>0</td>\n",
       "      <td>0</td>\n",
       "      <td>0</td>\n",
       "      <td>10</td>\n",
       "      <td>0.700000</td>\n",
       "    </tr>\n",
       "  </tbody>\n",
       "</table>\n",
       "<p>2 rows × 22 columns</p>\n",
       "</div>"
      ],
      "text/plain": [
       "   campaign_id  sender  subject_len  body_len  mean_paragraph_len  \\\n",
       "0            1       3           76     10439                  39   \n",
       "1            2       3           54      2570                 256   \n",
       "\n",
       "   day_of_week  is_weekend times_of_day  category  product  ...  is_image  \\\n",
       "0            5           1         Noon         6       26  ...         0   \n",
       "1            5           1      Morning         2       11  ...         0   \n",
       "\n",
       "   is_personalised  is_quote  is_timer  is_emoticons  is_discount  is_price  \\\n",
       "0                0         0         0             0            0         0   \n",
       "1                0         0         0             0            0         0   \n",
       "\n",
       "   is_urgency  target_audience  click_rate  \n",
       "0           0               14    0.103079  \n",
       "1           0               10    0.700000  \n",
       "\n",
       "[2 rows x 22 columns]"
      ]
     },
     "execution_count": 4,
     "metadata": {},
     "output_type": "execute_result"
    }
   ],
   "source": [
    "# overvier of data \n",
    "ctr_train.head(2)"
   ]
  },
  {
   "cell_type": "code",
   "execution_count": 5,
   "id": "8918ac6c",
   "metadata": {},
   "outputs": [
    {
     "name": "stdout",
     "output_type": "stream",
     "text": [
      "Total number of datapoint-: 1888\n",
      "Total number of features-: 22\n"
     ]
    }
   ],
   "source": [
    "#identifying number of rows and columns\n",
    "shape= ctr_train.shape\n",
    "print(\"Total number of datapoint-:\",shape[0])\n",
    "print(\"Total number of features-:\",shape[1])"
   ]
  },
  {
   "cell_type": "code",
   "execution_count": 6,
   "id": "3af6aa4c",
   "metadata": {},
   "outputs": [
    {
     "name": "stdout",
     "output_type": "stream",
     "text": [
      "Features: ['campaign_id', 'sender', 'subject_len', 'body_len', 'mean_paragraph_len', 'day_of_week', 'is_weekend', 'times_of_day', 'category', 'product', 'no_of_CTA', 'mean_CTA_len', 'is_image', 'is_personalised', 'is_quote', 'is_timer', 'is_emoticons', 'is_discount', 'is_price', 'is_urgency', 'target_audience', 'click_rate']\n"
     ]
    }
   ],
   "source": [
    "print('Features:',list(ctr_train.columns))"
   ]
  },
  {
   "cell_type": "markdown",
   "id": "43fa1740",
   "metadata": {},
   "source": [
    "### Statistics of Dataset :"
   ]
  },
  {
   "cell_type": "code",
   "execution_count": 7,
   "id": "73c3fb46",
   "metadata": {},
   "outputs": [
    {
     "data": {
      "text/html": [
       "<div>\n",
       "<style scoped>\n",
       "    .dataframe tbody tr th:only-of-type {\n",
       "        vertical-align: middle;\n",
       "    }\n",
       "\n",
       "    .dataframe tbody tr th {\n",
       "        vertical-align: top;\n",
       "    }\n",
       "\n",
       "    .dataframe thead th {\n",
       "        text-align: right;\n",
       "    }\n",
       "</style>\n",
       "<table border=\"1\" class=\"dataframe\">\n",
       "  <thead>\n",
       "    <tr style=\"text-align: right;\">\n",
       "      <th></th>\n",
       "      <th>campaign_id</th>\n",
       "      <th>sender</th>\n",
       "      <th>subject_len</th>\n",
       "      <th>body_len</th>\n",
       "      <th>mean_paragraph_len</th>\n",
       "      <th>day_of_week</th>\n",
       "      <th>is_weekend</th>\n",
       "      <th>category</th>\n",
       "      <th>product</th>\n",
       "      <th>no_of_CTA</th>\n",
       "      <th>...</th>\n",
       "      <th>is_image</th>\n",
       "      <th>is_personalised</th>\n",
       "      <th>is_quote</th>\n",
       "      <th>is_timer</th>\n",
       "      <th>is_emoticons</th>\n",
       "      <th>is_discount</th>\n",
       "      <th>is_price</th>\n",
       "      <th>is_urgency</th>\n",
       "      <th>target_audience</th>\n",
       "      <th>click_rate</th>\n",
       "    </tr>\n",
       "  </thead>\n",
       "  <tbody>\n",
       "    <tr>\n",
       "      <th>count</th>\n",
       "      <td>1888.000000</td>\n",
       "      <td>1888.000000</td>\n",
       "      <td>1888.000000</td>\n",
       "      <td>1888.000000</td>\n",
       "      <td>1888.000000</td>\n",
       "      <td>1888.000000</td>\n",
       "      <td>1888.000000</td>\n",
       "      <td>1888.000000</td>\n",
       "      <td>1888.000000</td>\n",
       "      <td>1888.000000</td>\n",
       "      <td>...</td>\n",
       "      <td>1888.000000</td>\n",
       "      <td>1888.000000</td>\n",
       "      <td>1888.000000</td>\n",
       "      <td>1888.0</td>\n",
       "      <td>1888.000000</td>\n",
       "      <td>1888.000000</td>\n",
       "      <td>1888.000000</td>\n",
       "      <td>1888.000000</td>\n",
       "      <td>1888.000000</td>\n",
       "      <td>1888.000000</td>\n",
       "    </tr>\n",
       "    <tr>\n",
       "      <th>mean</th>\n",
       "      <td>944.500000</td>\n",
       "      <td>4.395657</td>\n",
       "      <td>86.246292</td>\n",
       "      <td>14185.780191</td>\n",
       "      <td>35.239407</td>\n",
       "      <td>2.828390</td>\n",
       "      <td>0.199682</td>\n",
       "      <td>9.949682</td>\n",
       "      <td>17.525424</td>\n",
       "      <td>4.222458</td>\n",
       "      <td>...</td>\n",
       "      <td>0.909958</td>\n",
       "      <td>0.056674</td>\n",
       "      <td>0.834216</td>\n",
       "      <td>0.0</td>\n",
       "      <td>0.210805</td>\n",
       "      <td>0.039725</td>\n",
       "      <td>40.197034</td>\n",
       "      <td>0.112288</td>\n",
       "      <td>11.634534</td>\n",
       "      <td>0.041888</td>\n",
       "    </tr>\n",
       "    <tr>\n",
       "      <th>std</th>\n",
       "      <td>545.162973</td>\n",
       "      <td>3.277927</td>\n",
       "      <td>30.143206</td>\n",
       "      <td>7327.615307</td>\n",
       "      <td>28.139498</td>\n",
       "      <td>1.763193</td>\n",
       "      <td>0.399867</td>\n",
       "      <td>5.300719</td>\n",
       "      <td>12.369526</td>\n",
       "      <td>4.628348</td>\n",
       "      <td>...</td>\n",
       "      <td>0.866467</td>\n",
       "      <td>0.231279</td>\n",
       "      <td>1.033901</td>\n",
       "      <td>0.0</td>\n",
       "      <td>0.613442</td>\n",
       "      <td>0.195363</td>\n",
       "      <td>553.957470</td>\n",
       "      <td>0.315804</td>\n",
       "      <td>2.949121</td>\n",
       "      <td>0.084223</td>\n",
       "    </tr>\n",
       "    <tr>\n",
       "      <th>min</th>\n",
       "      <td>1.000000</td>\n",
       "      <td>0.000000</td>\n",
       "      <td>9.000000</td>\n",
       "      <td>23.000000</td>\n",
       "      <td>4.000000</td>\n",
       "      <td>0.000000</td>\n",
       "      <td>0.000000</td>\n",
       "      <td>0.000000</td>\n",
       "      <td>0.000000</td>\n",
       "      <td>0.000000</td>\n",
       "      <td>...</td>\n",
       "      <td>0.000000</td>\n",
       "      <td>0.000000</td>\n",
       "      <td>0.000000</td>\n",
       "      <td>0.0</td>\n",
       "      <td>0.000000</td>\n",
       "      <td>0.000000</td>\n",
       "      <td>0.000000</td>\n",
       "      <td>0.000000</td>\n",
       "      <td>0.000000</td>\n",
       "      <td>0.000000</td>\n",
       "    </tr>\n",
       "    <tr>\n",
       "      <th>25%</th>\n",
       "      <td>472.750000</td>\n",
       "      <td>3.000000</td>\n",
       "      <td>69.000000</td>\n",
       "      <td>9554.500000</td>\n",
       "      <td>21.000000</td>\n",
       "      <td>1.000000</td>\n",
       "      <td>0.000000</td>\n",
       "      <td>6.000000</td>\n",
       "      <td>9.000000</td>\n",
       "      <td>2.000000</td>\n",
       "      <td>...</td>\n",
       "      <td>0.000000</td>\n",
       "      <td>0.000000</td>\n",
       "      <td>0.000000</td>\n",
       "      <td>0.0</td>\n",
       "      <td>0.000000</td>\n",
       "      <td>0.000000</td>\n",
       "      <td>0.000000</td>\n",
       "      <td>0.000000</td>\n",
       "      <td>12.000000</td>\n",
       "      <td>0.005413</td>\n",
       "    </tr>\n",
       "    <tr>\n",
       "      <th>50%</th>\n",
       "      <td>944.500000</td>\n",
       "      <td>3.000000</td>\n",
       "      <td>83.000000</td>\n",
       "      <td>12689.000000</td>\n",
       "      <td>29.000000</td>\n",
       "      <td>3.000000</td>\n",
       "      <td>0.000000</td>\n",
       "      <td>10.000000</td>\n",
       "      <td>12.000000</td>\n",
       "      <td>3.000000</td>\n",
       "      <td>...</td>\n",
       "      <td>1.000000</td>\n",
       "      <td>0.000000</td>\n",
       "      <td>1.000000</td>\n",
       "      <td>0.0</td>\n",
       "      <td>0.000000</td>\n",
       "      <td>0.000000</td>\n",
       "      <td>0.000000</td>\n",
       "      <td>0.000000</td>\n",
       "      <td>12.000000</td>\n",
       "      <td>0.010686</td>\n",
       "    </tr>\n",
       "    <tr>\n",
       "      <th>75%</th>\n",
       "      <td>1416.250000</td>\n",
       "      <td>3.000000</td>\n",
       "      <td>98.000000</td>\n",
       "      <td>17351.500000</td>\n",
       "      <td>40.000000</td>\n",
       "      <td>4.000000</td>\n",
       "      <td>0.000000</td>\n",
       "      <td>15.000000</td>\n",
       "      <td>27.250000</td>\n",
       "      <td>5.000000</td>\n",
       "      <td>...</td>\n",
       "      <td>2.000000</td>\n",
       "      <td>0.000000</td>\n",
       "      <td>1.000000</td>\n",
       "      <td>0.0</td>\n",
       "      <td>0.000000</td>\n",
       "      <td>0.000000</td>\n",
       "      <td>0.000000</td>\n",
       "      <td>0.000000</td>\n",
       "      <td>12.000000</td>\n",
       "      <td>0.035589</td>\n",
       "    </tr>\n",
       "    <tr>\n",
       "      <th>max</th>\n",
       "      <td>1888.000000</td>\n",
       "      <td>15.000000</td>\n",
       "      <td>265.000000</td>\n",
       "      <td>44491.000000</td>\n",
       "      <td>286.000000</td>\n",
       "      <td>6.000000</td>\n",
       "      <td>1.000000</td>\n",
       "      <td>15.000000</td>\n",
       "      <td>43.000000</td>\n",
       "      <td>49.000000</td>\n",
       "      <td>...</td>\n",
       "      <td>6.000000</td>\n",
       "      <td>1.000000</td>\n",
       "      <td>6.000000</td>\n",
       "      <td>0.0</td>\n",
       "      <td>6.000000</td>\n",
       "      <td>1.000000</td>\n",
       "      <td>14999.000000</td>\n",
       "      <td>1.000000</td>\n",
       "      <td>16.000000</td>\n",
       "      <td>0.897959</td>\n",
       "    </tr>\n",
       "  </tbody>\n",
       "</table>\n",
       "<p>8 rows × 21 columns</p>\n",
       "</div>"
      ],
      "text/plain": [
       "       campaign_id       sender  subject_len      body_len  \\\n",
       "count  1888.000000  1888.000000  1888.000000   1888.000000   \n",
       "mean    944.500000     4.395657    86.246292  14185.780191   \n",
       "std     545.162973     3.277927    30.143206   7327.615307   \n",
       "min       1.000000     0.000000     9.000000     23.000000   \n",
       "25%     472.750000     3.000000    69.000000   9554.500000   \n",
       "50%     944.500000     3.000000    83.000000  12689.000000   \n",
       "75%    1416.250000     3.000000    98.000000  17351.500000   \n",
       "max    1888.000000    15.000000   265.000000  44491.000000   \n",
       "\n",
       "       mean_paragraph_len  day_of_week   is_weekend     category      product  \\\n",
       "count         1888.000000  1888.000000  1888.000000  1888.000000  1888.000000   \n",
       "mean            35.239407     2.828390     0.199682     9.949682    17.525424   \n",
       "std             28.139498     1.763193     0.399867     5.300719    12.369526   \n",
       "min              4.000000     0.000000     0.000000     0.000000     0.000000   \n",
       "25%             21.000000     1.000000     0.000000     6.000000     9.000000   \n",
       "50%             29.000000     3.000000     0.000000    10.000000    12.000000   \n",
       "75%             40.000000     4.000000     0.000000    15.000000    27.250000   \n",
       "max            286.000000     6.000000     1.000000    15.000000    43.000000   \n",
       "\n",
       "         no_of_CTA  ...     is_image  is_personalised     is_quote  is_timer  \\\n",
       "count  1888.000000  ...  1888.000000      1888.000000  1888.000000    1888.0   \n",
       "mean      4.222458  ...     0.909958         0.056674     0.834216       0.0   \n",
       "std       4.628348  ...     0.866467         0.231279     1.033901       0.0   \n",
       "min       0.000000  ...     0.000000         0.000000     0.000000       0.0   \n",
       "25%       2.000000  ...     0.000000         0.000000     0.000000       0.0   \n",
       "50%       3.000000  ...     1.000000         0.000000     1.000000       0.0   \n",
       "75%       5.000000  ...     2.000000         0.000000     1.000000       0.0   \n",
       "max      49.000000  ...     6.000000         1.000000     6.000000       0.0   \n",
       "\n",
       "       is_emoticons  is_discount      is_price   is_urgency  target_audience  \\\n",
       "count   1888.000000  1888.000000   1888.000000  1888.000000      1888.000000   \n",
       "mean       0.210805     0.039725     40.197034     0.112288        11.634534   \n",
       "std        0.613442     0.195363    553.957470     0.315804         2.949121   \n",
       "min        0.000000     0.000000      0.000000     0.000000         0.000000   \n",
       "25%        0.000000     0.000000      0.000000     0.000000        12.000000   \n",
       "50%        0.000000     0.000000      0.000000     0.000000        12.000000   \n",
       "75%        0.000000     0.000000      0.000000     0.000000        12.000000   \n",
       "max        6.000000     1.000000  14999.000000     1.000000        16.000000   \n",
       "\n",
       "        click_rate  \n",
       "count  1888.000000  \n",
       "mean      0.041888  \n",
       "std       0.084223  \n",
       "min       0.000000  \n",
       "25%       0.005413  \n",
       "50%       0.010686  \n",
       "75%       0.035589  \n",
       "max       0.897959  \n",
       "\n",
       "[8 rows x 21 columns]"
      ]
     },
     "execution_count": 7,
     "metadata": {},
     "output_type": "execute_result"
    }
   ],
   "source": [
    "# statistics of train data set\n",
    "ctr_train.describe()"
   ]
  },
  {
   "cell_type": "code",
   "execution_count": 8,
   "id": "b020fb2a",
   "metadata": {},
   "outputs": [
    {
     "data": {
      "text/html": [
       "<div>\n",
       "<style scoped>\n",
       "    .dataframe tbody tr th:only-of-type {\n",
       "        vertical-align: middle;\n",
       "    }\n",
       "\n",
       "    .dataframe tbody tr th {\n",
       "        vertical-align: top;\n",
       "    }\n",
       "\n",
       "    .dataframe thead th {\n",
       "        text-align: right;\n",
       "    }\n",
       "</style>\n",
       "<table border=\"1\" class=\"dataframe\">\n",
       "  <thead>\n",
       "    <tr style=\"text-align: right;\">\n",
       "      <th></th>\n",
       "      <th>campaign_id</th>\n",
       "      <th>sender</th>\n",
       "      <th>subject_len</th>\n",
       "      <th>body_len</th>\n",
       "      <th>mean_paragraph_len</th>\n",
       "      <th>day_of_week</th>\n",
       "      <th>is_weekend</th>\n",
       "      <th>category</th>\n",
       "      <th>product</th>\n",
       "      <th>no_of_CTA</th>\n",
       "      <th>mean_CTA_len</th>\n",
       "      <th>is_image</th>\n",
       "      <th>is_personalised</th>\n",
       "      <th>is_quote</th>\n",
       "      <th>is_timer</th>\n",
       "      <th>is_emoticons</th>\n",
       "      <th>is_discount</th>\n",
       "      <th>is_price</th>\n",
       "      <th>is_urgency</th>\n",
       "      <th>target_audience</th>\n",
       "    </tr>\n",
       "  </thead>\n",
       "  <tbody>\n",
       "    <tr>\n",
       "      <th>count</th>\n",
       "      <td>762.000000</td>\n",
       "      <td>762.000000</td>\n",
       "      <td>762.000000</td>\n",
       "      <td>762.000000</td>\n",
       "      <td>762.000000</td>\n",
       "      <td>762.000000</td>\n",
       "      <td>762.000000</td>\n",
       "      <td>762.000000</td>\n",
       "      <td>762.000000</td>\n",
       "      <td>762.000000</td>\n",
       "      <td>762.000000</td>\n",
       "      <td>762.000000</td>\n",
       "      <td>762.000000</td>\n",
       "      <td>762.000000</td>\n",
       "      <td>762.0</td>\n",
       "      <td>762.000000</td>\n",
       "      <td>762.000000</td>\n",
       "      <td>762.000000</td>\n",
       "      <td>762.000000</td>\n",
       "      <td>762.000000</td>\n",
       "    </tr>\n",
       "    <tr>\n",
       "      <th>mean</th>\n",
       "      <td>2269.500000</td>\n",
       "      <td>4.249344</td>\n",
       "      <td>86.509186</td>\n",
       "      <td>14184.263780</td>\n",
       "      <td>33.185039</td>\n",
       "      <td>2.850394</td>\n",
       "      <td>0.209974</td>\n",
       "      <td>9.590551</td>\n",
       "      <td>17.872703</td>\n",
       "      <td>4.212598</td>\n",
       "      <td>30.154856</td>\n",
       "      <td>0.942257</td>\n",
       "      <td>0.043307</td>\n",
       "      <td>0.864829</td>\n",
       "      <td>0.0</td>\n",
       "      <td>0.286089</td>\n",
       "      <td>0.031496</td>\n",
       "      <td>20.994751</td>\n",
       "      <td>0.114173</td>\n",
       "      <td>11.648294</td>\n",
       "    </tr>\n",
       "    <tr>\n",
       "      <th>std</th>\n",
       "      <td>220.114743</td>\n",
       "      <td>3.131927</td>\n",
       "      <td>30.586394</td>\n",
       "      <td>7179.056026</td>\n",
       "      <td>26.889537</td>\n",
       "      <td>1.791697</td>\n",
       "      <td>0.407557</td>\n",
       "      <td>5.314579</td>\n",
       "      <td>11.786908</td>\n",
       "      <td>3.911229</td>\n",
       "      <td>10.952515</td>\n",
       "      <td>0.877114</td>\n",
       "      <td>0.203681</td>\n",
       "      <td>1.028553</td>\n",
       "      <td>0.0</td>\n",
       "      <td>0.973791</td>\n",
       "      <td>0.174769</td>\n",
       "      <td>315.295844</td>\n",
       "      <td>0.318230</td>\n",
       "      <td>3.034567</td>\n",
       "    </tr>\n",
       "    <tr>\n",
       "      <th>min</th>\n",
       "      <td>1889.000000</td>\n",
       "      <td>1.000000</td>\n",
       "      <td>11.000000</td>\n",
       "      <td>23.000000</td>\n",
       "      <td>4.000000</td>\n",
       "      <td>0.000000</td>\n",
       "      <td>0.000000</td>\n",
       "      <td>0.000000</td>\n",
       "      <td>0.000000</td>\n",
       "      <td>0.000000</td>\n",
       "      <td>0.000000</td>\n",
       "      <td>0.000000</td>\n",
       "      <td>0.000000</td>\n",
       "      <td>0.000000</td>\n",
       "      <td>0.0</td>\n",
       "      <td>0.000000</td>\n",
       "      <td>0.000000</td>\n",
       "      <td>0.000000</td>\n",
       "      <td>0.000000</td>\n",
       "      <td>0.000000</td>\n",
       "    </tr>\n",
       "    <tr>\n",
       "      <th>25%</th>\n",
       "      <td>2079.250000</td>\n",
       "      <td>3.000000</td>\n",
       "      <td>68.000000</td>\n",
       "      <td>9697.250000</td>\n",
       "      <td>20.000000</td>\n",
       "      <td>1.000000</td>\n",
       "      <td>0.000000</td>\n",
       "      <td>6.000000</td>\n",
       "      <td>9.000000</td>\n",
       "      <td>2.000000</td>\n",
       "      <td>24.000000</td>\n",
       "      <td>0.000000</td>\n",
       "      <td>0.000000</td>\n",
       "      <td>0.000000</td>\n",
       "      <td>0.0</td>\n",
       "      <td>0.000000</td>\n",
       "      <td>0.000000</td>\n",
       "      <td>0.000000</td>\n",
       "      <td>0.000000</td>\n",
       "      <td>12.000000</td>\n",
       "    </tr>\n",
       "    <tr>\n",
       "      <th>50%</th>\n",
       "      <td>2269.500000</td>\n",
       "      <td>3.000000</td>\n",
       "      <td>83.000000</td>\n",
       "      <td>12740.500000</td>\n",
       "      <td>27.500000</td>\n",
       "      <td>3.000000</td>\n",
       "      <td>0.000000</td>\n",
       "      <td>10.000000</td>\n",
       "      <td>13.000000</td>\n",
       "      <td>3.000000</td>\n",
       "      <td>29.000000</td>\n",
       "      <td>1.000000</td>\n",
       "      <td>0.000000</td>\n",
       "      <td>1.000000</td>\n",
       "      <td>0.0</td>\n",
       "      <td>0.000000</td>\n",
       "      <td>0.000000</td>\n",
       "      <td>0.000000</td>\n",
       "      <td>0.000000</td>\n",
       "      <td>12.000000</td>\n",
       "    </tr>\n",
       "    <tr>\n",
       "      <th>75%</th>\n",
       "      <td>2459.750000</td>\n",
       "      <td>3.000000</td>\n",
       "      <td>98.000000</td>\n",
       "      <td>16746.000000</td>\n",
       "      <td>39.000000</td>\n",
       "      <td>4.000000</td>\n",
       "      <td>0.000000</td>\n",
       "      <td>15.000000</td>\n",
       "      <td>26.000000</td>\n",
       "      <td>5.000000</td>\n",
       "      <td>35.000000</td>\n",
       "      <td>2.000000</td>\n",
       "      <td>0.000000</td>\n",
       "      <td>1.000000</td>\n",
       "      <td>0.0</td>\n",
       "      <td>0.000000</td>\n",
       "      <td>0.000000</td>\n",
       "      <td>0.000000</td>\n",
       "      <td>0.000000</td>\n",
       "      <td>12.000000</td>\n",
       "    </tr>\n",
       "    <tr>\n",
       "      <th>max</th>\n",
       "      <td>2650.000000</td>\n",
       "      <td>15.000000</td>\n",
       "      <td>265.000000</td>\n",
       "      <td>44491.000000</td>\n",
       "      <td>498.000000</td>\n",
       "      <td>6.000000</td>\n",
       "      <td>1.000000</td>\n",
       "      <td>15.000000</td>\n",
       "      <td>44.000000</td>\n",
       "      <td>42.000000</td>\n",
       "      <td>96.000000</td>\n",
       "      <td>6.000000</td>\n",
       "      <td>1.000000</td>\n",
       "      <td>5.000000</td>\n",
       "      <td>0.0</td>\n",
       "      <td>17.000000</td>\n",
       "      <td>1.000000</td>\n",
       "      <td>5000.000000</td>\n",
       "      <td>1.000000</td>\n",
       "      <td>16.000000</td>\n",
       "    </tr>\n",
       "  </tbody>\n",
       "</table>\n",
       "</div>"
      ],
      "text/plain": [
       "       campaign_id      sender  subject_len      body_len  mean_paragraph_len  \\\n",
       "count   762.000000  762.000000   762.000000    762.000000          762.000000   \n",
       "mean   2269.500000    4.249344    86.509186  14184.263780           33.185039   \n",
       "std     220.114743    3.131927    30.586394   7179.056026           26.889537   \n",
       "min    1889.000000    1.000000    11.000000     23.000000            4.000000   \n",
       "25%    2079.250000    3.000000    68.000000   9697.250000           20.000000   \n",
       "50%    2269.500000    3.000000    83.000000  12740.500000           27.500000   \n",
       "75%    2459.750000    3.000000    98.000000  16746.000000           39.000000   \n",
       "max    2650.000000   15.000000   265.000000  44491.000000          498.000000   \n",
       "\n",
       "       day_of_week  is_weekend    category     product   no_of_CTA  \\\n",
       "count   762.000000  762.000000  762.000000  762.000000  762.000000   \n",
       "mean      2.850394    0.209974    9.590551   17.872703    4.212598   \n",
       "std       1.791697    0.407557    5.314579   11.786908    3.911229   \n",
       "min       0.000000    0.000000    0.000000    0.000000    0.000000   \n",
       "25%       1.000000    0.000000    6.000000    9.000000    2.000000   \n",
       "50%       3.000000    0.000000   10.000000   13.000000    3.000000   \n",
       "75%       4.000000    0.000000   15.000000   26.000000    5.000000   \n",
       "max       6.000000    1.000000   15.000000   44.000000   42.000000   \n",
       "\n",
       "       mean_CTA_len    is_image  is_personalised    is_quote  is_timer  \\\n",
       "count    762.000000  762.000000       762.000000  762.000000     762.0   \n",
       "mean      30.154856    0.942257         0.043307    0.864829       0.0   \n",
       "std       10.952515    0.877114         0.203681    1.028553       0.0   \n",
       "min        0.000000    0.000000         0.000000    0.000000       0.0   \n",
       "25%       24.000000    0.000000         0.000000    0.000000       0.0   \n",
       "50%       29.000000    1.000000         0.000000    1.000000       0.0   \n",
       "75%       35.000000    2.000000         0.000000    1.000000       0.0   \n",
       "max       96.000000    6.000000         1.000000    5.000000       0.0   \n",
       "\n",
       "       is_emoticons  is_discount     is_price  is_urgency  target_audience  \n",
       "count    762.000000   762.000000   762.000000  762.000000       762.000000  \n",
       "mean       0.286089     0.031496    20.994751    0.114173        11.648294  \n",
       "std        0.973791     0.174769   315.295844    0.318230         3.034567  \n",
       "min        0.000000     0.000000     0.000000    0.000000         0.000000  \n",
       "25%        0.000000     0.000000     0.000000    0.000000        12.000000  \n",
       "50%        0.000000     0.000000     0.000000    0.000000        12.000000  \n",
       "75%        0.000000     0.000000     0.000000    0.000000        12.000000  \n",
       "max       17.000000     1.000000  5000.000000    1.000000        16.000000  "
      ]
     },
     "execution_count": 8,
     "metadata": {},
     "output_type": "execute_result"
    }
   ],
   "source": [
    "# statistics of test data set\n",
    "ctr_test.describe()"
   ]
  },
  {
   "cell_type": "markdown",
   "id": "348583bc",
   "metadata": {},
   "source": [
    "### Observations:\n",
    "- Train and test data have quite same numeric distribution of mean, max and min value.\n",
    "\n",
    "- Both the train and test variable data have a substantial standard deviation.\n",
    "- Thus we can assume both train and test dataset have same distribution."
   ]
  },
  {
   "cell_type": "markdown",
   "id": "d3c2f277",
   "metadata": {},
   "source": [
    "### Testing on missing values-:\n",
    "We should always dedicate a part of our research on dealing with missing values"
   ]
  },
  {
   "cell_type": "code",
   "execution_count": 9,
   "id": "f8fe97b7",
   "metadata": {},
   "outputs": [
    {
     "data": {
      "text/plain": [
       "False"
      ]
     },
     "execution_count": 9,
     "metadata": {},
     "output_type": "execute_result"
    }
   ],
   "source": [
    "# is there any missing value in dataset\n",
    "pd.isnull(ctr_train).values.any()"
   ]
  },
  {
   "cell_type": "markdown",
   "id": "417ba2c8",
   "metadata": {},
   "source": [
    "There are no null values in data set and we can proceed with current dataset."
   ]
  },
  {
   "cell_type": "markdown",
   "id": "f83d8b01",
   "metadata": {},
   "source": [
    "### Target Feature-:"
   ]
  },
  {
   "cell_type": "code",
   "execution_count": 10,
   "id": "51f0e37d",
   "metadata": {},
   "outputs": [
    {
     "data": {
      "image/png": "[encoded data removed]",
      "text/plain": [
       "<Figure size 1152x576 with 1 Axes>"
      ]
     },
     "metadata": {
      "needs_background": "light"
     },
     "output_type": "display_data"
    }
   ],
   "source": [
    "# lets plot CTR against campaign id\n",
    "plt.figure(figsize=(16,8))\n",
    "plt.plot(ctr_train['campaign_id'], ctr_train['click_rate'])\n",
    "plt.title('click_rate per campaign_id')\n",
    "plt.xlabel('campaign_id')\n",
    "plt.ylabel('click_rate')\n",
    "\n",
    "plt.show()"
   ]
  },
  {
   "cell_type": "markdown",
   "id": "c07a5a8c",
   "metadata": {},
   "source": [
    "There are several distinctive peaks in the CTR values representing severe CTR. Such data distribution makes this feature very skewed and can result in suboptimal performance of the regressor.\n",
    "\n",
    "Basically, skewness measures the asymmetry of the probability distribution of a real-valued random variable about its mean. Let's calculate the skewness of CTR:"
   ]
  },
  {
   "cell_type": "code",
   "execution_count": 11,
   "id": "28c5b45c",
   "metadata": {},
   "outputs": [
    {
     "data": {
      "text/plain": [
       "array(4.31431192)"
      ]
     },
     "execution_count": 11,
     "metadata": {},
     "output_type": "execute_result"
    }
   ],
   "source": [
    "# lets find skewness of CTR distribution\n",
    "stats.mstats.skew(ctr_train['click_rate']).data"
   ]
  },
  {
   "cell_type": "markdown",
   "id": "43f45867",
   "metadata": {},
   "source": [
    "The value of skewness is positive it can be interpreted as distribution is right tail is longer; the mass of the distribution is concentrated on the left of the figure."
   ]
  },
  {
   "cell_type": "markdown",
   "id": "4a184c77",
   "metadata": {},
   "source": [
    "### Feature Correlation-:"
   ]
  },
  {
   "cell_type": "code",
   "execution_count": 12,
   "id": "4077e517",
   "metadata": {},
   "outputs": [
    {
     "data": {
      "text/plain": [
       "<AxesSubplot:>"
      ]
     },
     "execution_count": 12,
     "metadata": {},
     "output_type": "execute_result"
    },
    {
     "data": {
      "image/png": "[encoded data removed]",
      "text/plain": [
       "<Figure size 1152x648 with 2 Axes>"
      ]
     },
     "metadata": {
      "needs_background": "light"
     },
     "output_type": "display_data"
    }
   ],
   "source": [
    "# lets plot correlation between features\n",
    "plt.subplots(figsize=(16,9))\n",
    "correlation_mat = ctr_train.corr()\n",
    "sns.heatmap(correlation_mat, annot=True)"
   ]
  },
  {
   "cell_type": "code",
   "execution_count": 13,
   "id": "e12505e7",
   "metadata": {},
   "outputs": [
    {
     "data": {
      "text/plain": [
       "click_rate            1.000000\n",
       "mean_paragraph_len    0.178042\n",
       "product               0.121602\n",
       "is_weekend            0.114138\n",
       "day_of_week           0.086372\n",
       "campaign_id           0.053315\n",
       "target_audience       0.038713\n",
       "is_personalised       0.032922\n",
       "is_image             -0.021527\n",
       "is_price             -0.030540\n",
       "mean_CTA_len         -0.031162\n",
       "sender               -0.031398\n",
       "is_discount          -0.086105\n",
       "is_emoticons         -0.094305\n",
       "is_quote             -0.098402\n",
       "is_urgency           -0.114284\n",
       "category             -0.167756\n",
       "no_of_CTA            -0.172637\n",
       "subject_len          -0.180143\n",
       "body_len             -0.247866\n",
       "is_timer                   NaN\n",
       "dtype: float64"
      ]
     },
     "execution_count": 13,
     "metadata": {},
     "output_type": "execute_result"
    }
   ],
   "source": [
    "# lets find correlation of features with target feature\n",
    "ctr_train.corrwith(ctr_train['click_rate']).sort_values(ascending= False)"
   ]
  },
  {
   "cell_type": "markdown",
   "id": "a1110951",
   "metadata": {},
   "source": [
    "- There is very weak correlation of single feature’s as it’s maximum value is only 0.141528.\n",
    "- Also we can see no relation for feature is_timer, lets find out why. \n"
   ]
  },
  {
   "cell_type": "markdown",
   "id": "c2548623",
   "metadata": {},
   "source": [
    "### Exploratory Data Analysis-:"
   ]
  },
  {
   "cell_type": "code",
   "execution_count": 14,
   "id": "969c01c9",
   "metadata": {},
   "outputs": [
    {
     "data": {
      "text/plain": [
       "array([   1,    2,    3, ..., 1886, 1887, 1888], dtype=int64)"
      ]
     },
     "execution_count": 14,
     "metadata": {},
     "output_type": "execute_result"
    }
   ],
   "source": [
    "# feature campaign_id\n",
    "ctr_train['campaign_id'].unique()"
   ]
  },
  {
   "cell_type": "markdown",
   "id": "ecea2441",
   "metadata": {},
   "source": [
    "\n",
    "- Unique identifier for campaign. \n",
    "- Logically it has no contribuition to target feature. \n",
    "- It has unique id for reach datapoint."
   ]
  },
  {
   "cell_type": "code",
   "execution_count": 15,
   "id": "00ccebfd",
   "metadata": {},
   "outputs": [
    {
     "data": {
      "text/plain": [
       "<AxesSubplot:xlabel='count', ylabel='sender'>"
      ]
     },
     "execution_count": 15,
     "metadata": {},
     "output_type": "execute_result"
    },
    {
     "data": {
      "image/png": "[encoded data removed]",
      "text/plain": [
       "<Figure size 432x288 with 1 Axes>"
      ]
     },
     "metadata": {
      "needs_background": "light"
     },
     "output_type": "display_data"
    }
   ],
   "source": [
    "# finding count for each category\n",
    "sns.countplot(y=\"sender\", data=ctr_train)"
   ]
  },
  {
   "cell_type": "markdown",
   "id": "97f40bce",
   "metadata": {},
   "source": [
    "\n",
    "- Sender of an e-mail. It has 12 unique values.\n",
    "- category 3 is having maximum value while other categories having very less value."
   ]
  },
  {
   "cell_type": "code",
   "execution_count": 16,
   "id": "a6f74ab8",
   "metadata": {},
   "outputs": [
    {
     "data": {
      "text/plain": [
       "<AxesSubplot:xlabel='subject_len'>"
      ]
     },
     "execution_count": 16,
     "metadata": {},
     "output_type": "execute_result"
    },
    {
     "data": {
      "image/png": "[encoded data removed]",
      "text/plain": [
       "<Figure size 432x288 with 1 Axes>"
      ]
     },
     "metadata": {
      "needs_background": "light"
     },
     "output_type": "display_data"
    }
   ],
   "source": [
    "# boxplot and find distribution for subject_len\n",
    "sns.boxplot(x=ctr_train['subject_len'])"
   ]
  },
  {
   "cell_type": "markdown",
   "id": "bf2fa706",
   "metadata": {},
   "source": [
    "- Number of character in subject  lies between 25 words to 140 words approximately.\n",
    "- While some of email campaigns have Number of character in subject aboove 150 and upto 250."
   ]
  },
  {
   "cell_type": "code",
   "execution_count": 17,
   "id": "f0881762",
   "metadata": {},
   "outputs": [
    {
     "data": {
      "text/plain": [
       "<AxesSubplot:xlabel='body_len'>"
      ]
     },
     "execution_count": 17,
     "metadata": {},
     "output_type": "execute_result"
    },
    {
     "data": {
      "image/png": "[encoded data removed]",
      "text/plain": [
       "<Figure size 432x288 with 1 Axes>"
      ]
     },
     "metadata": {
      "needs_background": "light"
     },
     "output_type": "display_data"
    }
   ],
   "source": [
    "# boxplot and find distribution for body_len\n",
    "sns.boxplot(x=ctr_train['body_len'])"
   ]
  },
  {
   "cell_type": "markdown",
   "id": "e8cc8a8d",
   "metadata": {},
   "source": [
    "- Number of character in body  lies between up to 30000 words approximately.\n",
    "- While some of email campaigns have Number of character in body above 30000 also."
   ]
  },
  {
   "cell_type": "code",
   "execution_count": 18,
   "id": "55d00999",
   "metadata": {},
   "outputs": [
    {
     "data": {
      "text/plain": [
       "<AxesSubplot:xlabel='mean_paragraph_len'>"
      ]
     },
     "execution_count": 18,
     "metadata": {},
     "output_type": "execute_result"
    },
    {
     "data": {
      "image/png": "[encoded data removed]",
      "text/plain": [
       "<Figure size 432x288 with 1 Axes>"
      ]
     },
     "metadata": {
      "needs_background": "light"
     },
     "output_type": "display_data"
    }
   ],
   "source": [
    "# boxplot and find distribution for mean_paragraph_len\n",
    "sns.boxplot(x=ctr_train['mean_paragraph_len'])"
   ]
  },
  {
   "cell_type": "markdown",
   "id": "109736e0",
   "metadata": {},
   "source": [
    "- Number of character in body  lies between up to 70 approximately.\n",
    "- While some of email campaigns have Number of character in body are above 70 and upto 300."
   ]
  },
  {
   "cell_type": "code",
   "execution_count": 19,
   "id": "a446deae",
   "metadata": {},
   "outputs": [
    {
     "data": {
      "text/plain": [
       "<AxesSubplot:xlabel='count', ylabel='day_of_week'>"
      ]
     },
     "execution_count": 19,
     "metadata": {},
     "output_type": "execute_result"
    },
    {
     "data": {
      "image/png": "[encoded data removed]",
      "text/plain": [
       "<Figure size 432x288 with 1 Axes>"
      ]
     },
     "metadata": {
      "needs_background": "light"
     },
     "output_type": "display_data"
    }
   ],
   "source": [
    "# finding count for each category day_of_week\n",
    "sns.countplot(y=\"day_of_week\", data=ctr_train)"
   ]
  },
  {
   "cell_type": "markdown",
   "id": "68dd60de",
   "metadata": {},
   "source": [
    "- It is categorocal feature on which day email is sent.\n",
    "- Count of email sent increasing from day 0 to day 3 gradually.\n",
    "- While it is then decreasing from day 3 to day 6."
   ]
  },
  {
   "cell_type": "code",
   "execution_count": 20,
   "id": "f7f820cc",
   "metadata": {},
   "outputs": [
    {
     "data": {
      "text/plain": [
       "<AxesSubplot:xlabel='count', ylabel='times_of_day'>"
      ]
     },
     "execution_count": 20,
     "metadata": {},
     "output_type": "execute_result"
    },
    {
     "data": {
      "image/png": "[encoded data removed]",
      "text/plain": [
       "<Figure size 432x288 with 1 Axes>"
      ]
     },
     "metadata": {
      "needs_background": "light"
     },
     "output_type": "display_data"
    }
   ],
   "source": [
    "# finding count for each category times_of_day\n",
    "sns.countplot(y=\"times_of_day\", data=ctr_train)"
   ]
  },
  {
   "cell_type": "markdown",
   "id": "a881a05b",
   "metadata": {},
   "source": [
    "- It is categorocal feature on which time email is sent.\n",
    "- Most of the email sent in evening time followed by noon."
   ]
  },
  {
   "cell_type": "code",
   "execution_count": 21,
   "id": "8fc9e10e",
   "metadata": {},
   "outputs": [
    {
     "data": {
      "text/plain": [
       "16"
      ]
     },
     "execution_count": 21,
     "metadata": {},
     "output_type": "execute_result"
    }
   ],
   "source": [
    "# feature category\n",
    "len(ctr_train['category'].unique())"
   ]
  },
  {
   "cell_type": "markdown",
   "id": "0d26751b",
   "metadata": {},
   "source": [
    "- Its categorical feature containing 16 unique values."
   ]
  },
  {
   "cell_type": "code",
   "execution_count": 22,
   "id": "2434d792",
   "metadata": {},
   "outputs": [
    {
     "data": {
      "text/plain": [
       "43"
      ]
     },
     "execution_count": 22,
     "metadata": {},
     "output_type": "execute_result"
    }
   ],
   "source": [
    "# feature product\n",
    "len(ctr_train['product'].unique())\n"
   ]
  },
  {
   "cell_type": "markdown",
   "id": "91ada848",
   "metadata": {},
   "source": [
    "- Its categorical feature containing 43 unique values."
   ]
  },
  {
   "cell_type": "code",
   "execution_count": 23,
   "id": "9db21244",
   "metadata": {},
   "outputs": [
    {
     "data": {
      "text/plain": [
       "<AxesSubplot:xlabel='no_of_CTA'>"
      ]
     },
     "execution_count": 23,
     "metadata": {},
     "output_type": "execute_result"
    },
    {
     "data": {
      "image/png": "[encoded data removed]",
      "text/plain": [
       "<Figure size 432x288 with 1 Axes>"
      ]
     },
     "metadata": {
      "needs_background": "light"
     },
     "output_type": "display_data"
    }
   ],
   "source": [
    "# boxplot and find distribution no_of_CTA\n",
    "sns.boxplot(x=ctr_train['no_of_CTA'])"
   ]
  },
  {
   "cell_type": "code",
   "execution_count": 24,
   "id": "c6022cf2",
   "metadata": {},
   "outputs": [
    {
     "data": {
      "text/plain": [
       "<AxesSubplot:xlabel='mean_CTA_len'>"
      ]
     },
     "execution_count": 24,
     "metadata": {},
     "output_type": "execute_result"
    },
    {
     "data": {
      "image/png": "[encoded data removed]",
      "text/plain": [
       "<Figure size 432x288 with 1 Axes>"
      ]
     },
     "metadata": {
      "needs_background": "light"
     },
     "output_type": "display_data"
    }
   ],
   "source": [
    "# boxplot and find distribution mean_CTA_len\n",
    "sns.boxplot(x=ctr_train['mean_CTA_len'])"
   ]
  },
  {
   "cell_type": "code",
   "execution_count": 25,
   "id": "291e5f85",
   "metadata": {},
   "outputs": [
    {
     "data": {
      "text/plain": [
       "<AxesSubplot:xlabel='is_image', ylabel='count'>"
      ]
     },
     "execution_count": 25,
     "metadata": {},
     "output_type": "execute_result"
    },
    {
     "data": {
      "image/png": "[encoded data removed]",
      "text/plain": [
       "<Figure size 432x288 with 1 Axes>"
      ]
     },
     "metadata": {
      "needs_background": "light"
     },
     "output_type": "display_data"
    }
   ],
   "source": [
    "# boxplot and find distribution is_image\n",
    "sns.countplot(x=ctr_train['is_image'])"
   ]
  },
  {
   "cell_type": "markdown",
   "id": "ea0e6c76",
   "metadata": {},
   "source": [
    "- Most of emails having zero images.\n",
    "- But emails having images are also significant value , hence it can be useful feature."
   ]
  },
  {
   "cell_type": "code",
   "execution_count": 26,
   "id": "a522f514",
   "metadata": {},
   "outputs": [
    {
     "data": {
      "text/plain": [
       "<AxesSubplot:xlabel='is_personalised', ylabel='count'>"
      ]
     },
     "execution_count": 26,
     "metadata": {},
     "output_type": "execute_result"
    },
    {
     "data": {
      "image/png": "[encoded data removed]",
      "text/plain": [
       "<Figure size 432x288 with 1 Axes>"
      ]
     },
     "metadata": {
      "needs_background": "light"
     },
     "output_type": "display_data"
    }
   ],
   "source": [
    "# boxplot and find distribution is_personalised\n",
    "sns.countplot(x=ctr_train['is_personalised'])"
   ]
  },
  {
   "cell_type": "markdown",
   "id": "75d1de27",
   "metadata": {},
   "source": [
    "- Most of emails having zero is_personalised.\n",
    "- But emails having is_personalised are also significant value , hence it can be useful feature."
   ]
  },
  {
   "cell_type": "code",
   "execution_count": 27,
   "id": "5d55f2b7",
   "metadata": {},
   "outputs": [
    {
     "data": {
      "text/plain": [
       "<AxesSubplot:xlabel='is_quote', ylabel='count'>"
      ]
     },
     "execution_count": 27,
     "metadata": {},
     "output_type": "execute_result"
    },
    {
     "data": {
      "image/png": "[encoded data removed]",
      "text/plain": [
       "<Figure size 432x288 with 1 Axes>"
      ]
     },
     "metadata": {
      "needs_background": "light"
     },
     "output_type": "display_data"
    }
   ],
   "source": [
    "# boxplot and find distribution is_quote\n",
    "sns.countplot(x=ctr_train['is_quote'])"
   ]
  },
  {
   "cell_type": "markdown",
   "id": "f49a462f",
   "metadata": {},
   "source": [
    "- Most of emails having zero quote.\n",
    "- But emails having quote are also significant value , hence it can be useful feature."
   ]
  },
  {
   "cell_type": "code",
   "execution_count": 28,
   "id": "6a422a02",
   "metadata": {},
   "outputs": [
    {
     "data": {
      "text/plain": [
       "<AxesSubplot:xlabel='is_emoticons', ylabel='count'>"
      ]
     },
     "execution_count": 28,
     "metadata": {},
     "output_type": "execute_result"
    },
    {
     "data": {
      "image/png": "[encoded data removed]",
      "text/plain": [
       "<Figure size 432x288 with 1 Axes>"
      ]
     },
     "metadata": {
      "needs_background": "light"
     },
     "output_type": "display_data"
    }
   ],
   "source": [
    "# boxplot and find distribution is_emoticons\n",
    "sns.countplot(x=ctr_train['is_emoticons'])"
   ]
  },
  {
   "cell_type": "markdown",
   "id": "8943a3b3",
   "metadata": {},
   "source": [
    "- Here we can see most of almost 1600 emails have 0 emoticons.\n",
    "- So we can drop this feature as it is not providing more information."
   ]
  },
  {
   "cell_type": "code",
   "execution_count": 29,
   "id": "9318e574",
   "metadata": {},
   "outputs": [
    {
     "data": {
      "text/plain": [
       "<AxesSubplot:xlabel='is_discount', ylabel='count'>"
      ]
     },
     "execution_count": 29,
     "metadata": {},
     "output_type": "execute_result"
    },
    {
     "data": {
      "image/png": "[encoded data removed]",
      "text/plain": [
       "<Figure size 432x288 with 1 Axes>"
      ]
     },
     "metadata": {
      "needs_background": "light"
     },
     "output_type": "display_data"
    }
   ],
   "source": [
    "# boxplot and find distribution is_discount\n",
    "sns.countplot(x=ctr_train['is_discount'])"
   ]
  },
  {
   "cell_type": "markdown",
   "id": "06b6aaa0",
   "metadata": {},
   "source": [
    "- Here we can see most of almost 1750 emails have 0 discount flag.\n",
    "- So we can drop this feature as it is not providing more information."
   ]
  },
  {
   "cell_type": "code",
   "execution_count": 30,
   "id": "aaa6065c",
   "metadata": {},
   "outputs": [
    {
     "data": {
      "text/plain": [
       "<AxesSubplot:xlabel='is_urgency', ylabel='count'>"
      ]
     },
     "execution_count": 30,
     "metadata": {},
     "output_type": "execute_result"
    },
    {
     "data": {
      "image/png": "[encoded data removed]",
      "text/plain": [
       "<Figure size 432x288 with 1 Axes>"
      ]
     },
     "metadata": {
      "needs_background": "light"
     },
     "output_type": "display_data"
    }
   ],
   "source": [
    "# boxplot and find distribution is_urgency\n",
    "sns.countplot(x=ctr_train['is_urgency'])"
   ]
  },
  {
   "cell_type": "markdown",
   "id": "0238abe5",
   "metadata": {},
   "source": [
    "- Here we can see most of almost 1600 emails have 0 is_urgency flag.\n",
    "- So we can drop this feature as it is not providing more information."
   ]
  },
  {
   "cell_type": "code",
   "execution_count": 31,
   "id": "7d5e801e",
   "metadata": {},
   "outputs": [
    {
     "data": {
      "text/plain": [
       "array([    0,  5499,  8000,  4999,  1399,  5000,  1000, 14999],\n",
       "      dtype=int64)"
      ]
     },
     "execution_count": 31,
     "metadata": {},
     "output_type": "execute_result"
    }
   ],
   "source": [
    "# exploring is price feature is_price\n",
    "ctr_train['is_price'].unique()"
   ]
  },
  {
   "cell_type": "markdown",
   "id": "f650a479",
   "metadata": {},
   "source": [
    "Here we can see is price is categorical varible with boolean flag but it is showing values in some cases. Need to correct prices into boolean flag 1."
   ]
  },
  {
   "cell_type": "code",
   "execution_count": 32,
   "id": "52570207",
   "metadata": {},
   "outputs": [],
   "source": [
    "# replacing values \n",
    "ctr_train['is_price'] = np.where(ctr_train['is_price'] == 0, 0, 1)"
   ]
  },
  {
   "cell_type": "code",
   "execution_count": 33,
   "id": "349cd0ac",
   "metadata": {},
   "outputs": [
    {
     "data": {
      "text/plain": [
       "array([0, 1])"
      ]
     },
     "execution_count": 33,
     "metadata": {},
     "output_type": "execute_result"
    }
   ],
   "source": [
    "ctr_train['is_price'].unique()"
   ]
  },
  {
   "cell_type": "code",
   "execution_count": 34,
   "id": "5ecb1d4d",
   "metadata": {},
   "outputs": [
    {
     "data": {
      "text/plain": [
       "<AxesSubplot:xlabel='is_price', ylabel='count'>"
      ]
     },
     "execution_count": 34,
     "metadata": {},
     "output_type": "execute_result"
    },
    {
     "data": {
      "image/png": "[encoded data removed]",
      "text/plain": [
       "<Figure size 432x288 with 1 Axes>"
      ]
     },
     "metadata": {
      "needs_background": "light"
     },
     "output_type": "display_data"
    }
   ],
   "source": [
    "# finding counts of is price\n",
    "sns.countplot(x=ctr_train['is_price'])"
   ]
  },
  {
   "cell_type": "markdown",
   "id": "b8b92681",
   "metadata": {},
   "source": [
    "- Here we can see most of almost 1750 emails have 0 is_price flag.\n",
    "- So we can drop this feature as it is not providing more information."
   ]
  },
  {
   "cell_type": "code",
   "execution_count": 35,
   "id": "815e5378",
   "metadata": {},
   "outputs": [
    {
     "data": {
      "text/plain": [
       "0    1888\n",
       "Name: is_timer, dtype: int64"
      ]
     },
     "execution_count": 35,
     "metadata": {},
     "output_type": "execute_result"
    }
   ],
   "source": [
    "# exploring feature is_timer \n",
    "ctr_train['is_timer'].value_counts()"
   ]
  },
  {
   "cell_type": "markdown",
   "id": "45adf782",
   "metadata": {},
   "source": [
    "- Here we can see there is only one category.\n",
    "- Hence we can drop this feature."
   ]
  },
  {
   "cell_type": "markdown",
   "id": "e0a350c7",
   "metadata": {},
   "source": [
    "### Data Pre-processing-:\n",
    "\n",
    "- From above data analysis we came to know that some features are dominating in train dataset.\n",
    "- Also if we can check statistically those features having very correlation with target features.\n",
    "- Those features can ve dropeed from train and test data set."
   ]
  },
  {
   "cell_type": "code",
   "execution_count": 36,
   "id": "8a40fc6c",
   "metadata": {},
   "outputs": [],
   "source": [
    "# drop feature from train dataset.\n",
    "\n",
    "ctr_train.drop(['is_personalised','is_timer','is_emoticons','is_discount','is_price','is_urgency','sender'], axis =1, inplace = True)\n",
    "\n"
   ]
  },
  {
   "cell_type": "code",
   "execution_count": 37,
   "id": "4fe501d6",
   "metadata": {},
   "outputs": [],
   "source": [
    "# drop feature from test dataset.\n",
    "ctr_test.drop(['is_personalised','is_timer','is_emoticons','is_discount','is_price','is_urgency','sender'], axis =1, inplace = True)"
   ]
  },
  {
   "cell_type": "code",
   "execution_count": 38,
   "id": "8d16e83b",
   "metadata": {},
   "outputs": [
    {
     "name": "stdout",
     "output_type": "stream",
     "text": [
      "(1888, 15)\n",
      "(762, 14)\n"
     ]
    }
   ],
   "source": [
    "print(ctr_train.shape)\n",
    "print(ctr_test.shape)"
   ]
  },
  {
   "cell_type": "markdown",
   "id": "5d61d609",
   "metadata": {},
   "source": [
    "Final number of features are 15 while 7 features dropped from train and test dataset"
   ]
  },
  {
   "cell_type": "code",
   "execution_count": 39,
   "id": "1dbf2ecd",
   "metadata": {},
   "outputs": [
    {
     "data": {
      "text/html": [
       "<div>\n",
       "<style scoped>\n",
       "    .dataframe tbody tr th:only-of-type {\n",
       "        vertical-align: middle;\n",
       "    }\n",
       "\n",
       "    .dataframe tbody tr th {\n",
       "        vertical-align: top;\n",
       "    }\n",
       "\n",
       "    .dataframe thead th {\n",
       "        text-align: right;\n",
       "    }\n",
       "</style>\n",
       "<table border=\"1\" class=\"dataframe\">\n",
       "  <thead>\n",
       "    <tr style=\"text-align: right;\">\n",
       "      <th></th>\n",
       "      <th>campaign_id</th>\n",
       "      <th>subject_len</th>\n",
       "      <th>body_len</th>\n",
       "      <th>mean_paragraph_len</th>\n",
       "      <th>day_of_week</th>\n",
       "      <th>is_weekend</th>\n",
       "      <th>times_of_day</th>\n",
       "      <th>category</th>\n",
       "      <th>product</th>\n",
       "      <th>no_of_CTA</th>\n",
       "      <th>mean_CTA_len</th>\n",
       "      <th>is_image</th>\n",
       "      <th>is_quote</th>\n",
       "      <th>target_audience</th>\n",
       "      <th>click_rate</th>\n",
       "    </tr>\n",
       "  </thead>\n",
       "  <tbody>\n",
       "    <tr>\n",
       "      <th>0</th>\n",
       "      <td>1</td>\n",
       "      <td>76</td>\n",
       "      <td>10439</td>\n",
       "      <td>39</td>\n",
       "      <td>5</td>\n",
       "      <td>1</td>\n",
       "      <td>Noon</td>\n",
       "      <td>6</td>\n",
       "      <td>26</td>\n",
       "      <td>3</td>\n",
       "      <td>29</td>\n",
       "      <td>0</td>\n",
       "      <td>0</td>\n",
       "      <td>14</td>\n",
       "      <td>0.103079</td>\n",
       "    </tr>\n",
       "    <tr>\n",
       "      <th>1</th>\n",
       "      <td>2</td>\n",
       "      <td>54</td>\n",
       "      <td>2570</td>\n",
       "      <td>256</td>\n",
       "      <td>5</td>\n",
       "      <td>1</td>\n",
       "      <td>Morning</td>\n",
       "      <td>2</td>\n",
       "      <td>11</td>\n",
       "      <td>0</td>\n",
       "      <td>22</td>\n",
       "      <td>0</td>\n",
       "      <td>0</td>\n",
       "      <td>10</td>\n",
       "      <td>0.700000</td>\n",
       "    </tr>\n",
       "  </tbody>\n",
       "</table>\n",
       "</div>"
      ],
      "text/plain": [
       "   campaign_id  subject_len  body_len  mean_paragraph_len  day_of_week  \\\n",
       "0            1           76     10439                  39            5   \n",
       "1            2           54      2570                 256            5   \n",
       "\n",
       "   is_weekend times_of_day  category  product  no_of_CTA  mean_CTA_len  \\\n",
       "0           1         Noon         6       26          3            29   \n",
       "1           1      Morning         2       11          0            22   \n",
       "\n",
       "   is_image  is_quote  target_audience  click_rate  \n",
       "0         0         0               14    0.103079  \n",
       "1         0         0               10    0.700000  "
      ]
     },
     "execution_count": 39,
     "metadata": {},
     "output_type": "execute_result"
    }
   ],
   "source": [
    "ctr_train.head(2)"
   ]
  },
  {
   "cell_type": "code",
   "execution_count": 40,
   "id": "93bb77e6",
   "metadata": {},
   "outputs": [
    {
     "name": "stderr",
     "output_type": "stream",
     "text": [
      "C:\\Users\\scorpions3394\\anaconda3\\lib\\site-packages\\category_encoders\\target_encoder.py:92: FutureWarning: Default parameter min_samples_leaf will change in version 2.6.See https://github.com/scikit-learn-contrib/category_encoders/issues/327\n",
      "  warnings.warn(\"Default parameter min_samples_leaf will change in version 2.6.\"\n",
      "C:\\Users\\scorpions3394\\anaconda3\\lib\\site-packages\\category_encoders\\target_encoder.py:97: FutureWarning: Default parameter smoothing will change in version 2.6.See https://github.com/scikit-learn-contrib/category_encoders/issues/327\n",
      "  warnings.warn(\"Default parameter smoothing will change in version 2.6.\"\n"
     ]
    },
    {
     "data": {
      "text/plain": [
       "(1888, 15)"
      ]
     },
     "execution_count": 40,
     "metadata": {},
     "output_type": "execute_result"
    }
   ],
   "source": [
    "# encoding product feature using target encoding\n",
    "\n",
    "import category_encoders as ce\n",
    "encoder=ce.TargetEncoder(cols='product') \n",
    "encoder.fit(ctr_train['product'],ctr_train['click_rate'])\n",
    "\n",
    "ctr_train['product']= encoder.transform(ctr_train['product'])\n",
    "ctr_test['product']= encoder.transform(ctr_test['product'])\n",
    "\n",
    "ctr_train.shape"
   ]
  },
  {
   "cell_type": "code",
   "execution_count": 41,
   "id": "77023f1f",
   "metadata": {},
   "outputs": [
    {
     "data": {
      "text/plain": [
       "(1888, 15)"
      ]
     },
     "execution_count": 41,
     "metadata": {},
     "output_type": "execute_result"
    }
   ],
   "source": [
    "# encoding category feature using target encoding\n",
    "\n",
    "import category_encoders as ce\n",
    "encoder=ce.TargetEncoder(cols='category') \n",
    "encoder.fit(ctr_train['category'],ctr_train['click_rate'])\n",
    "\n",
    "ctr_train['category']= encoder.transform(ctr_train['category'])\n",
    "ctr_test['category']= encoder.transform(ctr_test['category'])\n",
    "\n",
    "ctr_train.shape"
   ]
  },
  {
   "cell_type": "code",
   "execution_count": 42,
   "id": "938108b2",
   "metadata": {},
   "outputs": [
    {
     "data": {
      "text/plain": [
       "(1888, 15)"
      ]
     },
     "execution_count": 42,
     "metadata": {},
     "output_type": "execute_result"
    }
   ],
   "source": [
    "# encoding target_audience feature using target encoding\n",
    "\n",
    "import category_encoders as ce\n",
    "encoder=ce.TargetEncoder(cols='target_audience') \n",
    "encoder.fit(ctr_train['target_audience'],ctr_train['click_rate'])\n",
    "\n",
    "ctr_train['target_audience']= encoder.transform(ctr_train['target_audience'])\n",
    "ctr_test['target_audience']= encoder.transform(ctr_test['target_audience'])\n",
    "\n",
    "ctr_train.shape"
   ]
  },
  {
   "cell_type": "code",
   "execution_count": 43,
   "id": "b7616465",
   "metadata": {},
   "outputs": [
    {
     "data": {
      "text/plain": [
       "(1888, 17)"
      ]
     },
     "execution_count": 43,
     "metadata": {},
     "output_type": "execute_result"
    }
   ],
   "source": [
    "# encoding times_of_day feature using one hot encoding\n",
    "\n",
    "\n",
    "encoder_=ce.OneHotEncoder(cols='times_of_day')\n",
    "ctr_train= encoder_.fit_transform(ctr_train)\n",
    "ctr_test= encoder_.fit_transform(ctr_test)\n",
    "\n",
    "ctr_train.shape"
   ]
  },
  {
   "cell_type": "code",
   "execution_count": 44,
   "id": "16ec1a94",
   "metadata": {},
   "outputs": [
    {
     "data": {
      "text/html": [
       "<div>\n",
       "<style scoped>\n",
       "    .dataframe tbody tr th:only-of-type {\n",
       "        vertical-align: middle;\n",
       "    }\n",
       "\n",
       "    .dataframe tbody tr th {\n",
       "        vertical-align: top;\n",
       "    }\n",
       "\n",
       "    .dataframe thead th {\n",
       "        text-align: right;\n",
       "    }\n",
       "</style>\n",
       "<table border=\"1\" class=\"dataframe\">\n",
       "  <thead>\n",
       "    <tr style=\"text-align: right;\">\n",
       "      <th></th>\n",
       "      <th>campaign_id</th>\n",
       "      <th>subject_len</th>\n",
       "      <th>body_len</th>\n",
       "      <th>mean_paragraph_len</th>\n",
       "      <th>day_of_week</th>\n",
       "      <th>is_weekend</th>\n",
       "      <th>times_of_day_1</th>\n",
       "      <th>times_of_day_2</th>\n",
       "      <th>times_of_day_3</th>\n",
       "      <th>category</th>\n",
       "      <th>product</th>\n",
       "      <th>no_of_CTA</th>\n",
       "      <th>mean_CTA_len</th>\n",
       "      <th>is_image</th>\n",
       "      <th>is_quote</th>\n",
       "      <th>target_audience</th>\n",
       "      <th>click_rate</th>\n",
       "    </tr>\n",
       "  </thead>\n",
       "  <tbody>\n",
       "    <tr>\n",
       "      <th>0</th>\n",
       "      <td>1</td>\n",
       "      <td>76</td>\n",
       "      <td>10439</td>\n",
       "      <td>39</td>\n",
       "      <td>5</td>\n",
       "      <td>1</td>\n",
       "      <td>1</td>\n",
       "      <td>0</td>\n",
       "      <td>0</td>\n",
       "      <td>0.067375</td>\n",
       "      <td>0.060373</td>\n",
       "      <td>3</td>\n",
       "      <td>29</td>\n",
       "      <td>0</td>\n",
       "      <td>0</td>\n",
       "      <td>0.091743</td>\n",
       "      <td>0.103079</td>\n",
       "    </tr>\n",
       "    <tr>\n",
       "      <th>1</th>\n",
       "      <td>2</td>\n",
       "      <td>54</td>\n",
       "      <td>2570</td>\n",
       "      <td>256</td>\n",
       "      <td>5</td>\n",
       "      <td>1</td>\n",
       "      <td>0</td>\n",
       "      <td>1</td>\n",
       "      <td>0</td>\n",
       "      <td>0.079360</td>\n",
       "      <td>0.079360</td>\n",
       "      <td>0</td>\n",
       "      <td>22</td>\n",
       "      <td>0</td>\n",
       "      <td>0</td>\n",
       "      <td>0.040149</td>\n",
       "      <td>0.700000</td>\n",
       "    </tr>\n",
       "  </tbody>\n",
       "</table>\n",
       "</div>"
      ],
      "text/plain": [
       "   campaign_id  subject_len  body_len  mean_paragraph_len  day_of_week  \\\n",
       "0            1           76     10439                  39            5   \n",
       "1            2           54      2570                 256            5   \n",
       "\n",
       "   is_weekend  times_of_day_1  times_of_day_2  times_of_day_3  category  \\\n",
       "0           1               1               0               0  0.067375   \n",
       "1           1               0               1               0  0.079360   \n",
       "\n",
       "    product  no_of_CTA  mean_CTA_len  is_image  is_quote  target_audience  \\\n",
       "0  0.060373          3            29         0         0         0.091743   \n",
       "1  0.079360          0            22         0         0         0.040149   \n",
       "\n",
       "   click_rate  \n",
       "0    0.103079  \n",
       "1    0.700000  "
      ]
     },
     "execution_count": 44,
     "metadata": {},
     "output_type": "execute_result"
    }
   ],
   "source": [
    "ctr_train.head(2)"
   ]
  },
  {
   "cell_type": "markdown",
   "id": "037addd9",
   "metadata": {},
   "source": [
    "## Model Training-:"
   ]
  },
  {
   "cell_type": "code",
   "execution_count": 45,
   "id": "290f2d3d",
   "metadata": {},
   "outputs": [],
   "source": [
    "# determining x and y values\n",
    "X_train = ctr_train.loc[:, ctr_train.columns != 'click_rate']\n",
    "y_target = ctr_train.click_rate.values"
   ]
  },
  {
   "cell_type": "code",
   "execution_count": 46,
   "id": "ce0caa5c",
   "metadata": {},
   "outputs": [],
   "source": [
    "from sklearn.model_selection import train_test_split\n",
    "X_train, X_test, y_train, y_test = train_test_split(X_train, y_target, test_size=0.2, random_state=42)"
   ]
  },
  {
   "cell_type": "code",
   "execution_count": 60,
   "id": "e899494f",
   "metadata": {},
   "outputs": [
    {
     "data": {
      "text/plain": [
       "GridSearchCV(cv=3, estimator=RandomForestRegressor(), n_jobs=-1,\n",
       "             param_grid={'max_depth': [5, 10, 15, 20, 25],\n",
       "                         'n_estimators': [25, 50, 75, 100, 125]},\n",
       "             scoring='r2')"
      ]
     },
     "execution_count": 60,
     "metadata": {},
     "output_type": "execute_result"
    }
   ],
   "source": [
    "from sklearn.ensemble import RandomForestRegressor\n",
    "from sklearn.model_selection import GridSearchCV\n",
    "\n",
    "hyper_param = {'max_depth':[5,10,15,20,25],'n_estimators': [25,50,75,100,125]}\n",
    "\n",
    "\n",
    "model_RF = GridSearchCV(RandomForestRegressor(), hyper_param,scoring='r2', cv=3,n_jobs=-1)\n",
    "model_RF.fit(X_train,y_train)"
   ]
  },
  {
   "cell_type": "code",
   "execution_count": 61,
   "id": "feb036a8",
   "metadata": {},
   "outputs": [
    {
     "name": "stdout",
     "output_type": "stream",
     "text": [
      "0.4568473448211722\n"
     ]
    }
   ],
   "source": [
    "from sklearn.metrics import r2_score\n",
    "\n",
    "final_model = model_RF.best_estimator_\n",
    "final_model.fit(X_train,y_train)\n",
    "y_pred = final_model.predict(X_test)\n",
    "\n",
    "\n",
    "print(r2_score(y_test, y_pred))"
   ]
  },
  {
   "cell_type": "code",
   "execution_count": 62,
   "id": "22543dea",
   "metadata": {},
   "outputs": [],
   "source": [
    "ctr_test['click_rate'] = final_model.predict(ctr_test)"
   ]
  },
  {
   "cell_type": "code",
   "execution_count": 63,
   "id": "d8ec7d94",
   "metadata": {},
   "outputs": [
    {
     "data": {
      "text/html": [
       "<div>\n",
       "<style scoped>\n",
       "    .dataframe tbody tr th:only-of-type {\n",
       "        vertical-align: middle;\n",
       "    }\n",
       "\n",
       "    .dataframe tbody tr th {\n",
       "        vertical-align: top;\n",
       "    }\n",
       "\n",
       "    .dataframe thead th {\n",
       "        text-align: right;\n",
       "    }\n",
       "</style>\n",
       "<table border=\"1\" class=\"dataframe\">\n",
       "  <thead>\n",
       "    <tr style=\"text-align: right;\">\n",
       "      <th></th>\n",
       "      <th>campaign_id</th>\n",
       "      <th>subject_len</th>\n",
       "      <th>body_len</th>\n",
       "      <th>mean_paragraph_len</th>\n",
       "      <th>day_of_week</th>\n",
       "      <th>is_weekend</th>\n",
       "      <th>times_of_day_1</th>\n",
       "      <th>times_of_day_2</th>\n",
       "      <th>times_of_day_3</th>\n",
       "      <th>category</th>\n",
       "      <th>product</th>\n",
       "      <th>no_of_CTA</th>\n",
       "      <th>mean_CTA_len</th>\n",
       "      <th>is_image</th>\n",
       "      <th>is_quote</th>\n",
       "      <th>target_audience</th>\n",
       "      <th>click_rate</th>\n",
       "    </tr>\n",
       "  </thead>\n",
       "  <tbody>\n",
       "    <tr>\n",
       "      <th>0</th>\n",
       "      <td>1889</td>\n",
       "      <td>61</td>\n",
       "      <td>12871</td>\n",
       "      <td>11</td>\n",
       "      <td>6</td>\n",
       "      <td>1</td>\n",
       "      <td>1</td>\n",
       "      <td>0</td>\n",
       "      <td>0</td>\n",
       "      <td>0.067375</td>\n",
       "      <td>0.060373</td>\n",
       "      <td>3</td>\n",
       "      <td>37</td>\n",
       "      <td>1</td>\n",
       "      <td>0</td>\n",
       "      <td>0.091743</td>\n",
       "      <td>0.105023</td>\n",
       "    </tr>\n",
       "    <tr>\n",
       "      <th>1</th>\n",
       "      <td>1890</td>\n",
       "      <td>54</td>\n",
       "      <td>2569</td>\n",
       "      <td>256</td>\n",
       "      <td>5</td>\n",
       "      <td>1</td>\n",
       "      <td>0</td>\n",
       "      <td>1</td>\n",
       "      <td>0</td>\n",
       "      <td>0.079360</td>\n",
       "      <td>0.079360</td>\n",
       "      <td>0</td>\n",
       "      <td>22</td>\n",
       "      <td>0</td>\n",
       "      <td>0</td>\n",
       "      <td>0.040149</td>\n",
       "      <td>0.299893</td>\n",
       "    </tr>\n",
       "  </tbody>\n",
       "</table>\n",
       "</div>"
      ],
      "text/plain": [
       "   campaign_id  subject_len  body_len  mean_paragraph_len  day_of_week  \\\n",
       "0         1889           61     12871                  11            6   \n",
       "1         1890           54      2569                 256            5   \n",
       "\n",
       "   is_weekend  times_of_day_1  times_of_day_2  times_of_day_3  category  \\\n",
       "0           1               1               0               0  0.067375   \n",
       "1           1               0               1               0  0.079360   \n",
       "\n",
       "    product  no_of_CTA  mean_CTA_len  is_image  is_quote  target_audience  \\\n",
       "0  0.060373          3            37         1         0         0.091743   \n",
       "1  0.079360          0            22         0         0         0.040149   \n",
       "\n",
       "   click_rate  \n",
       "0    0.105023  \n",
       "1    0.299893  "
      ]
     },
     "execution_count": 63,
     "metadata": {},
     "output_type": "execute_result"
    }
   ],
   "source": [
    "ctr_test.head(2)"
   ]
  },
  {
   "cell_type": "code",
   "execution_count": 65,
   "id": "e29bccbe",
   "metadata": {},
   "outputs": [],
   "source": [
    "submission = ctr_test[['campaign_id','click_rate']]"
   ]
  },
  {
   "cell_type": "code",
   "execution_count": 66,
   "id": "a0e0e385",
   "metadata": {},
   "outputs": [
    {
     "data": {
      "text/html": [
       "<div>\n",
       "<style scoped>\n",
       "    .dataframe tbody tr th:only-of-type {\n",
       "        vertical-align: middle;\n",
       "    }\n",
       "\n",
       "    .dataframe tbody tr th {\n",
       "        vertical-align: top;\n",
       "    }\n",
       "\n",
       "    .dataframe thead th {\n",
       "        text-align: right;\n",
       "    }\n",
       "</style>\n",
       "<table border=\"1\" class=\"dataframe\">\n",
       "  <thead>\n",
       "    <tr style=\"text-align: right;\">\n",
       "      <th></th>\n",
       "      <th>campaign_id</th>\n",
       "      <th>click_rate</th>\n",
       "    </tr>\n",
       "  </thead>\n",
       "  <tbody>\n",
       "    <tr>\n",
       "      <th>0</th>\n",
       "      <td>1889</td>\n",
       "      <td>0.105023</td>\n",
       "    </tr>\n",
       "    <tr>\n",
       "      <th>1</th>\n",
       "      <td>1890</td>\n",
       "      <td>0.299893</td>\n",
       "    </tr>\n",
       "    <tr>\n",
       "      <th>2</th>\n",
       "      <td>1891</td>\n",
       "      <td>0.164910</td>\n",
       "    </tr>\n",
       "    <tr>\n",
       "      <th>3</th>\n",
       "      <td>1892</td>\n",
       "      <td>0.164398</td>\n",
       "    </tr>\n",
       "    <tr>\n",
       "      <th>4</th>\n",
       "      <td>1893</td>\n",
       "      <td>0.121900</td>\n",
       "    </tr>\n",
       "  </tbody>\n",
       "</table>\n",
       "</div>"
      ],
      "text/plain": [
       "   campaign_id  click_rate\n",
       "0         1889    0.105023\n",
       "1         1890    0.299893\n",
       "2         1891    0.164910\n",
       "3         1892    0.164398\n",
       "4         1893    0.121900"
      ]
     },
     "execution_count": 66,
     "metadata": {},
     "output_type": "execute_result"
    }
   ],
   "source": [
    "submission.head()"
   ]
  },
  {
   "cell_type": "code",
   "execution_count": 72,
   "id": "84220f22",
   "metadata": {},
   "outputs": [],
   "source": [
    "submission.to_csv('submission_final.csv', index=False)"
   ]
  },
  {
   "cell_type": "code",
   "execution_count": null,
   "id": "98bd5c97",
   "metadata": {},
   "outputs": [],
   "source": []
  }
 ],
 "metadata": {
  "kernelspec": {
   "display_name": "Python 3 (ipykernel)",
   "language": "python",
   "name": "python3"
  },
  "language_info": {
   "codemirror_mode": {
    "name": "ipython",
    "version": 3
   },
   "file_extension": ".py",
   "mimetype": "text/x-python",
   "name": "python",
   "nbconvert_exporter": "python",
   "pygments_lexer": "ipython3",
   "version": "3.9.7"
  }
 },
 "nbformat": 4,
 "nbformat_minor": 5
}
